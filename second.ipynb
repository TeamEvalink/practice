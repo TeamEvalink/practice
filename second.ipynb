{
 "cells": [
  {
   "cell_type": "code",
   "execution_count": 6,
   "metadata": {
    "collapsed": true
   },
   "outputs": [],
   "source": [
    "import requests\n",
    "from bs4 import BeautifulSoup\n",
    "\n",
    "url = 'http://www.weather.com.cn/weather/101020100.shtml'\n",
    "resp = requests.get(url)\n",
    "text = resp.text.encode('iso-8859-1').decode('utf-8')\n",
    "bs = BeautifulSoup(text,'html5lib')\n",
    "items = bs.select('ul.t.clearfix > li')\n",
    "\n",
    "times = []\n",
    "weathers = []\n",
    "temps = []\n",
    "winds = []\n",
    "for item in items:\n",
    "    time = item.select('h1')[0].text\n",
    "    weather = item.select('p')[0].text\n",
    "    temp = item.select('p.tem')[0].text.strip()\n",
    "    wind = item.select('p.win')[0].text.strip()\n",
    "    \n",
    "    times.append(time)\n",
    "    weathers.append(weather)\n",
    "    temps.append(temp)\n",
    "    winds.append(wind)\n",
    "    \n",
    "dic = {\n",
    "    'time':times,\n",
    "    'weahter':weathers,\n",
    "    'temp':temps,\n",
    "    'wind':winds\n",
    "}\n",
    "\n",
    "import pandas as pd\n",
    "dic_pd = pd.DataFrame(dic)"
   ]
  },
  {
   "cell_type": "code",
   "execution_count": 7,
   "metadata": {},
   "outputs": [
    {
     "data": {
      "text/html": [
       "<div>\n",
       "<style>\n",
       "    .dataframe thead tr:only-child th {\n",
       "        text-align: right;\n",
       "    }\n",
       "\n",
       "    .dataframe thead th {\n",
       "        text-align: left;\n",
       "    }\n",
       "\n",
       "    .dataframe tbody tr th {\n",
       "        vertical-align: top;\n",
       "    }\n",
       "</style>\n",
       "<table border=\"1\" class=\"dataframe\">\n",
       "  <thead>\n",
       "    <tr style=\"text-align: right;\">\n",
       "      <th></th>\n",
       "      <th>temp</th>\n",
       "      <th>time</th>\n",
       "      <th>weahter</th>\n",
       "      <th>wind</th>\n",
       "    </tr>\n",
       "  </thead>\n",
       "  <tbody>\n",
       "    <tr>\n",
       "      <th>0</th>\n",
       "      <td>17℃</td>\n",
       "      <td>20日（今天）</td>\n",
       "      <td>多云</td>\n",
       "      <td>4-5级</td>\n",
       "    </tr>\n",
       "    <tr>\n",
       "      <th>1</th>\n",
       "      <td>22℃/17℃</td>\n",
       "      <td>21日（明天）</td>\n",
       "      <td>晴</td>\n",
       "      <td>4-5级</td>\n",
       "    </tr>\n",
       "    <tr>\n",
       "      <th>2</th>\n",
       "      <td>22℃/16℃</td>\n",
       "      <td>22日（后天）</td>\n",
       "      <td>晴</td>\n",
       "      <td>5-6级转4-5级</td>\n",
       "    </tr>\n",
       "    <tr>\n",
       "      <th>3</th>\n",
       "      <td>20℃/14℃</td>\n",
       "      <td>23日（周一）</td>\n",
       "      <td>多云转晴</td>\n",
       "      <td>4-5级转微风</td>\n",
       "    </tr>\n",
       "    <tr>\n",
       "      <th>4</th>\n",
       "      <td>20℃/13℃</td>\n",
       "      <td>24日（周二）</td>\n",
       "      <td>晴</td>\n",
       "      <td>微风</td>\n",
       "    </tr>\n",
       "    <tr>\n",
       "      <th>5</th>\n",
       "      <td>21℃/15℃</td>\n",
       "      <td>25日（周三）</td>\n",
       "      <td>晴</td>\n",
       "      <td>微风</td>\n",
       "    </tr>\n",
       "    <tr>\n",
       "      <th>6</th>\n",
       "      <td>21℃/14℃</td>\n",
       "      <td>26日（周四）</td>\n",
       "      <td>小雨转多云</td>\n",
       "      <td>微风</td>\n",
       "    </tr>\n",
       "  </tbody>\n",
       "</table>\n",
       "</div>"
      ],
      "text/plain": [
       "      temp     time weahter       wind\n",
       "0      17℃  20日（今天）      多云       4-5级\n",
       "1  22℃/17℃  21日（明天）       晴       4-5级\n",
       "2  22℃/16℃  22日（后天）       晴  5-6级转4-5级\n",
       "3  20℃/14℃  23日（周一）    多云转晴    4-5级转微风\n",
       "4  20℃/13℃  24日（周二）       晴         微风\n",
       "5  21℃/15℃  25日（周三）       晴         微风\n",
       "6  21℃/14℃  26日（周四）   小雨转多云         微风"
      ]
     },
     "execution_count": 7,
     "metadata": {},
     "output_type": "execute_result"
    }
   ],
   "source": [
    "dic_pd"
   ]
  },
  {
   "cell_type": "code",
   "execution_count": null,
   "metadata": {
    "collapsed": true
   },
   "outputs": [],
   "source": []
  }
 ],
 "metadata": {
  "kernelspec": {
   "display_name": "Python 3",
   "language": "python",
   "name": "python3"
  },
  "language_info": {
   "codemirror_mode": {
    "name": "ipython",
    "version": 3
   },
   "file_extension": ".py",
   "mimetype": "text/x-python",
   "name": "python",
   "nbconvert_exporter": "python",
   "pygments_lexer": "ipython3",
   "version": "3.6.1"
  }
 },
 "nbformat": 4,
 "nbformat_minor": 2
}
