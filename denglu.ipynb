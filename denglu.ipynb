{
 "cells": [
  {
   "cell_type": "code",
   "execution_count": null,
   "metadata": {
    "collapsed": true
   },
   "outputs": [],
   "source": [
    "import requests\n",
    "from bs4 import BeautifulSoup\n",
    "\n",
    "url_login = 'https://www.douban.com/login'\n",
    "headers = {'user-agent':'Mozilla/5.0 (Macintosh; Intel Mac OS X 10_12_6) AppleWebKit/537.36 (KHTML, like Gecko) Chrome/61.0.3163.100 Safari/537.36'}\n",
    "\n",
    "session = requests.Session()\n",
    "formdata = {\n",
    "    'redir':'https://www.douban.com',\n",
    "    'form_email':'760711770@qq.com',\n",
    "    'form_password':'hb19930506'\n",
    "}\n",
    "\n",
    "resp = session.post(url_login,data = formdata,headers = headers)\n",
    "bs = BeautifulSoup(resp.text,'html5lib')\n",
    "\n",
    "captcha = bs.select('img#captcha_image')\n",
    "print(captcha)\n",
    "if captcha:\n",
    "    captcha = captcha[0]\n",
    "    img_url = captcha.get('src').strip()\n",
    "    print(img_url)\n",
    "    id = img_url.split(\"?\")[1].split(\"&\")[0].split(\"=\")[1]\n",
    "    print(id)\n",
    "    text = input(\"请输入验证码\")\n",
    "    formdata['captcha-solution'] = text\n",
    "    formdata['captcha-id'] = id\n",
    "    \n",
    "    resp = session.post(url_login,data = formdata,headers = headers)\n",
    "\n",
    "bs = BeautifulSoup(resp.text,'html5lib')\n",
    "items = bs.select('div')\n",
    "\n",
    "print(items)"
   ]
  },
  {
   "cell_type": "code",
   "execution_count": null,
   "metadata": {
    "collapsed": true
   },
   "outputs": [],
   "source": []
  }
 ],
 "metadata": {
  "kernelspec": {
   "display_name": "Python 3",
   "language": "python",
   "name": "python3"
  },
  "language_info": {
   "codemirror_mode": {
    "name": "ipython",
    "version": 3
   },
   "file_extension": ".py",
   "mimetype": "text/x-python",
   "name": "python",
   "nbconvert_exporter": "python",
   "pygments_lexer": "ipython3",
   "version": "3.6.1"
  }
 },
 "nbformat": 4,
 "nbformat_minor": 2
}
