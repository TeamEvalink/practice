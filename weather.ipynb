{
 "cells": [
  {
   "cell_type": "code",
   "execution_count": 27,
   "metadata": {},
   "outputs": [],
   "source": [
    "import requests\n",
    "from bs4 import BeautifulSoup\n",
    "url = 'http://www.weather.com.cn/weather/101020100.shtml'\n",
    "\n",
    "resp = requests.get(url)\n",
    "text = resp.text.encode('Iso-8859-1').decode('utf-8')\n",
    "bs = BeautifulSoup(text,'html5lib')\n",
    "\n",
    "weathers = bs.select('ul.t.clearfix > li')\n",
    "\n",
    "situations = []\n",
    "temps = []\n",
    "winds = []\n",
    "for weather in weathers:\n",
    "    situation = weather.select('p.wea')[0].text\n",
    "    temp = weather.select('p.tem > i')[0].text\n",
    "    wind = weather.select('p.win > i ')[0].text\n",
    "    \n",
    "    situations.append(situation)\n",
    "    temps.append(temp)\n",
    "    winds.append(wind)\n",
    "\n",
    "dic = {'天气':situations,'温度':temps,'风力':winds}\n",
    "\n",
    "import pandas as pd\n",
    "\n",
    "dic_pd = pd.DataFrame(dic)\n"
   ]
  },
  {
   "cell_type": "code",
   "execution_count": 28,
   "metadata": {},
   "outputs": [
    {
     "data": {
      "text/html": [
       "<div>\n",
       "<style>\n",
       "    .dataframe thead tr:only-child th {\n",
       "        text-align: right;\n",
       "    }\n",
       "\n",
       "    .dataframe thead th {\n",
       "        text-align: left;\n",
       "    }\n",
       "\n",
       "    .dataframe tbody tr th {\n",
       "        vertical-align: top;\n",
       "    }\n",
       "</style>\n",
       "<table border=\"1\" class=\"dataframe\">\n",
       "  <thead>\n",
       "    <tr style=\"text-align: right;\">\n",
       "      <th></th>\n",
       "      <th>天气</th>\n",
       "      <th>温度</th>\n",
       "      <th>风力</th>\n",
       "    </tr>\n",
       "  </thead>\n",
       "  <tbody>\n",
       "    <tr>\n",
       "      <th>0</th>\n",
       "      <td>多云</td>\n",
       "      <td>18℃</td>\n",
       "      <td>3-4级</td>\n",
       "    </tr>\n",
       "    <tr>\n",
       "      <th>1</th>\n",
       "      <td>多云转晴</td>\n",
       "      <td>17℃</td>\n",
       "      <td>4-5级</td>\n",
       "    </tr>\n",
       "    <tr>\n",
       "      <th>2</th>\n",
       "      <td>晴</td>\n",
       "      <td>17℃</td>\n",
       "      <td>5-6级</td>\n",
       "    </tr>\n",
       "    <tr>\n",
       "      <th>3</th>\n",
       "      <td>晴</td>\n",
       "      <td>15℃</td>\n",
       "      <td>5-6级转4-5级</td>\n",
       "    </tr>\n",
       "    <tr>\n",
       "      <th>4</th>\n",
       "      <td>多云转晴</td>\n",
       "      <td>13℃</td>\n",
       "      <td>4-5级</td>\n",
       "    </tr>\n",
       "    <tr>\n",
       "      <th>5</th>\n",
       "      <td>晴</td>\n",
       "      <td>13℃</td>\n",
       "      <td>微风</td>\n",
       "    </tr>\n",
       "    <tr>\n",
       "      <th>6</th>\n",
       "      <td>晴</td>\n",
       "      <td>15℃</td>\n",
       "      <td>3-4级转微风</td>\n",
       "    </tr>\n",
       "  </tbody>\n",
       "</table>\n",
       "</div>"
      ],
      "text/plain": [
       "     天气   温度         风力\n",
       "0    多云  18℃       3-4级\n",
       "1  多云转晴  17℃       4-5级\n",
       "2     晴  17℃       5-6级\n",
       "3     晴  15℃  5-6级转4-5级\n",
       "4  多云转晴  13℃       4-5级\n",
       "5     晴  13℃         微风\n",
       "6     晴  15℃    3-4级转微风"
      ]
     },
     "execution_count": 28,
     "metadata": {},
     "output_type": "execute_result"
    }
   ],
   "source": [
    "dic_pd"
   ]
  },
  {
   "cell_type": "code",
   "execution_count": null,
   "metadata": {
    "collapsed": true
   },
   "outputs": [],
   "source": []
  }
 ],
 "metadata": {
  "kernelspec": {
   "display_name": "Python 3",
   "language": "python",
   "name": "python3"
  },
  "language_info": {
   "codemirror_mode": {
    "name": "ipython",
    "version": 3
   },
   "file_extension": ".py",
   "mimetype": "text/x-python",
   "name": "python",
   "nbconvert_exporter": "python",
   "pygments_lexer": "ipython3",
   "version": "3.6.1"
  }
 },
 "nbformat": 4,
 "nbformat_minor": 2
}
