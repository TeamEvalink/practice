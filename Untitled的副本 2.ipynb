{
 "cells": [
  {
   "cell_type": "code",
   "execution_count": 17,
   "metadata": {},
   "outputs": [
    {
     "name": "stdout",
     "output_type": "stream",
     "text": [
      "<Element html at 0x10747b348>\n",
      "['\\r\\n    ', '\\r\\n    ', '\\r\\n    \\r\\n\\r\\n', '\\r\\n\\r\\n', '\\r\\n', '\\r\\n', '\\r\\n', '\\r\\n', '\\r\\n', '\\r\\n\\r\\n', '\\r\\n\\r\\n', '\\r\\n', '\\r\\n', '\\r\\n\\r\\n    ', '\\r\\n    \\r\\n    ', '\\r\\n\\r\\n    \\r\\n    ', '\\r\\n    ', '\\r\\n\\r\\n']\n"
     ]
    }
   ],
   "source": [
    "import requests\n",
    "url='http://quote.eastmoney.com/sz116071.html'\n",
    "data=requests.get(url)\n",
    "\n",
    "from lxml import etree\n",
    "selector=etree.HTML(data.content)\n",
    "\n",
    "faxingdanwei=selector.xpath('/html/body/div[3]/div[4]/div[1]/div/table/tbody/tr[5]/td[4]/tex')\n",
    "print(faxingdanwei)"
   ]
  },
  {
   "cell_type": "code",
   "execution_count": null,
   "metadata": {
    "collapsed": true
   },
   "outputs": [],
   "source": []
  }
 ],
 "metadata": {
  "kernelspec": {
   "display_name": "Python 3",
   "language": "python",
   "name": "python3"
  },
  "language_info": {
   "codemirror_mode": {
    "name": "ipython",
    "version": 3
   },
   "file_extension": ".py",
   "mimetype": "text/x-python",
   "name": "python",
   "nbconvert_exporter": "python",
   "pygments_lexer": "ipython3",
   "version": "3.6.1"
  }
 },
 "nbformat": 4,
 "nbformat_minor": 2
}
