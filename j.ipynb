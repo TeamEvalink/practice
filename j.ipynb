{
 "cells": [
  {
   "cell_type": "code",
   "execution_count": 10,
   "metadata": {
    "collapsed": true
   },
   "outputs": [],
   "source": [
    "import time\n",
    "from selenium import webdriver"
   ]
  },
  {
   "cell_type": "code",
   "execution_count": null,
   "metadata": {},
   "outputs": [],
   "source": [
    "driver = webdriver.Chrome()\n",
    "driver.maximize_window()\n",
    "try: \n",
    "    driver.get('http://www.balmain.com/en_cn/men/new-arrivals.html')\n",
    "except:\n",
    "    pass\n",
    "\n",
    "elements = []\n",
    "count = -1\n",
    "while len(elements) > count:\n",
    "    count = len(elements)\n",
    "    driver.execute_script('window.scrollBy(0,document.body.scrollHeight);')\n",
    "    time.sleep(2)\n",
    "    elements = driver.find_elements_by_css_selector('div.products-list > div > a')\n",
    "\n",
    "for element in elements:\n",
    "    print(element.get_attribute('href'))\n",
    "\n",
    "driver.quit()\n"
   ]
  },
  {
   "cell_type": "code",
   "execution_count": null,
   "metadata": {
    "collapsed": true
   },
   "outputs": [],
   "source": []
  }
 ],
 "metadata": {
  "kernelspec": {
   "display_name": "Python 3",
   "language": "python",
   "name": "python3"
  },
  "language_info": {
   "codemirror_mode": {
    "name": "ipython",
    "version": 3
   },
   "file_extension": ".py",
   "mimetype": "text/x-python",
   "name": "python",
   "nbconvert_exporter": "python",
   "pygments_lexer": "ipython3",
   "version": "3.6.1"
  }
 },
 "nbformat": 4,
 "nbformat_minor": 2
}
