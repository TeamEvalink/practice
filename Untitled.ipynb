{
 "cells": [
  {
   "cell_type": "code",
   "execution_count": null,
   "metadata": {},
   "outputs": [],
   "source": [
    "import requests\n",
    "from bs4 import BeautifulSoup\n",
    "\n",
    "names = []\n",
    "prices = []\n",
    "url = 'http://www.17huo.com/list-man-0-50011123-0--2m0.html'\n",
    "while url:\n",
    "    resp = requests.get(url)\n",
    "    bs = BeautifulSoup(resp.text,'html5lib')\n",
    "    items = bs.select('ul.item > li')\n",
    "        \n",
    "    for item in items:\n",
    "        name = item.select('p.item_title')[0]\n",
    "        print(name)"
   ]
  },
  {
   "cell_type": "code",
   "execution_count": null,
   "metadata": {
    "collapsed": true
   },
   "outputs": [],
   "source": []
  }
 ],
 "metadata": {
  "kernelspec": {
   "display_name": "Python 3",
   "language": "python",
   "name": "python3"
  },
  "language_info": {
   "codemirror_mode": {
    "name": "ipython",
    "version": 3
   },
   "file_extension": ".py",
   "mimetype": "text/x-python",
   "name": "python",
   "nbconvert_exporter": "python",
   "pygments_lexer": "ipython3",
   "version": "3.6.1"
  }
 },
 "nbformat": 4,
 "nbformat_minor": 2
}
